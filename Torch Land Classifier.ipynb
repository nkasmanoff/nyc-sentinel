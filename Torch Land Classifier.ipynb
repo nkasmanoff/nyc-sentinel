{
 "cells": [
  {
   "cell_type": "code",
   "execution_count": 5,
   "id": "c2e0489f",
   "metadata": {},
   "outputs": [],
   "source": [
    "import glob\n",
    "import tqdm\n",
    "import numpy as np\n",
    "import pandas as pd\n",
    "import torch\n",
    "from PIL import Image\n",
    "from torchvision import transforms\n",
    "from torch.utils.data import Dataset, DataLoader\n",
    "import torchvision\n",
    "import matplotlib.pyplot as plt\n",
    "from sklearn.model_selection import train_test_split\n",
    "%matplotlib inline"
   ]
  },
  {
   "cell_type": "code",
   "execution_count": null,
   "id": "87dc539f",
   "metadata": {},
   "outputs": [],
   "source": []
  },
  {
   "cell_type": "code",
   "execution_count": null,
   "id": "4ad381c2",
   "metadata": {},
   "outputs": [],
   "source": [
    "os.system(\"wget http://madm.dfki.de/files/sentinel/EuroSAT.zip\")\n",
    "\n"
   ]
  },
  {
   "cell_type": "code",
   "execution_count": null,
   "id": "9c5f487b",
   "metadata": {},
   "outputs": [],
   "source": [
    "import zipfile\n",
    " \n",
    "zip_file = \"EuroSAT.zip\"\n",
    "\n",
    "try:\n",
    "    with zipfile.ZipFile(zip_file) as z:\n",
    "        z.extractall()\n",
    "        print(\"Extracted all\")\n",
    "except:\n",
    "    print(\"Invalid file\")"
   ]
  },
  {
   "cell_type": "code",
   "execution_count": 2,
   "id": "342e507b",
   "metadata": {},
   "outputs": [
    {
     "name": "stderr",
     "output_type": "stream",
     "text": [
      "100%|██████████| 250/250 [00:00<00:00, 270.42it/s]\n",
      "100%|██████████| 250/250 [00:00<00:00, 309.39it/s]\n",
      "100%|██████████| 250/250 [00:00<00:00, 294.77it/s]\n",
      "100%|██████████| 250/250 [00:00<00:00, 301.31it/s]\n",
      "100%|██████████| 250/250 [00:00<00:00, 288.55it/s]\n",
      "100%|██████████| 250/250 [00:00<00:00, 313.88it/s]\n",
      "100%|██████████| 250/250 [00:00<00:00, 296.68it/s]\n",
      "100%|██████████| 250/250 [00:00<00:00, 268.29it/s]\n",
      "100%|██████████| 250/250 [00:00<00:00, 294.68it/s]\n",
      "100%|██████████| 250/250 [00:00<00:00, 314.56it/s]\n"
     ]
    }
   ],
   "source": [
    "def load_eurosat_dataset():\n",
    "    \"\"\"\n",
    "    \n",
    "    Using the extracted folder for EuroSAT dataset, transforms data into training and test sets to be processed via dataloaders.\n",
    "    \n",
    "    Based on https://github.com/thegomeslab/dsces/blob/2e7f0a9e1b5761b78857d8ee709e6ec09421bef7/lectures/18b_Convolutional_Neural_Networks_EuroSAT.ipynb\n",
    "    \"\"\"\n",
    "    data_folders = sorted(glob.glob(\"2750/*\"))\n",
    "    # preprocessing steps for image\n",
    "    preprocess = transforms.Compose([transforms.ToTensor(),\n",
    "                                   transforms.RandomHorizontalFlip(),\n",
    "                                   transforms.RandomVerticalFlip(),\n",
    "                                   # normalization used on training resnet-50 data - TODO confirm same for resnet 18\n",
    "                                   transforms.Normalize(mean=[0.7137, 0.6628, 0.6519], \\\n",
    "                                                        std=[0.2970, 0.3017, 0.2979]),])\n",
    "    X = []\n",
    "    y = []\n",
    "    label_dict = {}\n",
    "    for idx, folder in enumerate(data_folders):\n",
    "        label_dict[idx] = folder.replace('2750/','')\n",
    "        imgs = sorted(glob.glob(folder + \"/*.jpg\"))\n",
    "        for i in tqdm.tqdm(imgs[:250]):\n",
    "            img = Image.open(i)\n",
    "            img = preprocess(img)\n",
    "            X.append(img)\n",
    "            y.append(torch.tensor([idx]))\n",
    "    X = torch.stack(X, dim=0).float()\n",
    "    y = torch.stack(y, dim=0).flatten().long()\n",
    "    return X, y, label_dict\n",
    "\n",
    "X, y, label_dict = load_eurosat_dataset()\n",
    "X_train, X_test, y_train, y_test = train_test_split(X, y, test_size=0.1)"
   ]
  },
  {
   "cell_type": "code",
   "execution_count": 6,
   "id": "597fe13f",
   "metadata": {},
   "outputs": [],
   "source": [
    "model = torchvision.models.resnet18(pretrained=True)\n"
   ]
  },
  {
   "cell_type": "code",
   "execution_count": 33,
   "id": "d3ac8e3d",
   "metadata": {},
   "outputs": [],
   "source": [
    "class EuroSATDataset(Dataset):\n",
    "    def __init__(self,X,y,label_dict):\n",
    "    \n",
    "        self.X = X\n",
    "        self.y = y\n",
    "        self.label_dict = label_dict\n",
    "        \n",
    "    def __len__(self):\n",
    "        return len(self.X)\n",
    "    \n",
    "    def __getitem__(self,idx):\n",
    "        \n",
    "        x = self.X[idx]\n",
    "        y = self.y[idx]\n",
    "        category = self.label_dict[y.item()]\n",
    "        return x, y"
   ]
  },
  {
   "cell_type": "code",
   "execution_count": 34,
   "id": "68ee99a4",
   "metadata": {},
   "outputs": [],
   "source": [
    "train_dataset = EuroSATDataset(X_train,y_train,label_dict)"
   ]
  }
 ],
 "metadata": {
  "kernelspec": {
   "display_name": "Python 3",
   "language": "python",
   "name": "python3"
  },
  "language_info": {
   "codemirror_mode": {
    "name": "ipython",
    "version": 3
   },
   "file_extension": ".py",
   "mimetype": "text/x-python",
   "name": "python",
   "nbconvert_exporter": "python",
   "pygments_lexer": "ipython3",
   "version": "3.6.9"
  }
 },
 "nbformat": 4,
 "nbformat_minor": 5
}
