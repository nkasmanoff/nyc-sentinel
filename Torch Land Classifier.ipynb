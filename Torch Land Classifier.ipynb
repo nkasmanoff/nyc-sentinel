{
 "cells": [
  {
   "cell_type": "code",
   "execution_count": 2,
   "id": "b0fda8a5",
   "metadata": {},
   "outputs": [
    {
     "name": "stdout",
     "output_type": "stream",
     "text": [
      "Invalid file  [Errno 2] No such file or directory: 'EuroSAT.zip'\n"
     ]
    },
    {
     "name": "stderr",
     "output_type": "stream",
     "text": [
      "sh: wget: command not found\n"
     ]
    }
   ],
   "source": [
    "import zipfile\n",
    "import os\n",
    "os.system(\"wget http://madm.dfki.de/files/sentinel/EuroSAT.zip\")\n",
    "\n",
    "\n",
    " \n",
    "zip_file = \"EuroSAT.zip\"\n",
    "\n",
    "try:\n",
    "    with zipfile.ZipFile(zip_file) as z:\n",
    "        z.extractall()\n",
    "        print(\"Extracted all\")\n",
    "except Exception as e:\n",
    "    print(\"Invalid file \", e)"
   ]
  },
  {
   "cell_type": "code",
   "execution_count": 2,
   "id": "e8316ffe",
   "metadata": {},
   "outputs": [],
   "source": [
    "import sys\n",
    "sys.path.append('src/')"
   ]
  },
  {
   "cell_type": "code",
   "execution_count": 3,
   "id": "6ecaaee2",
   "metadata": {},
   "outputs": [],
   "source": [
    "from load_data import get_eurosat_dataloaders"
   ]
  },
  {
   "cell_type": "code",
   "execution_count": 4,
   "id": "f7563bb2",
   "metadata": {},
   "outputs": [
    {
     "name": "stderr",
     "output_type": "stream",
     "text": [
      "100%|██████████| 2000/2000 [00:00<00:00, 460431.86it/s]\n",
      "100%|██████████| 2000/2000 [00:00<00:00, 572523.07it/s]\n",
      "100%|██████████| 2000/2000 [00:00<00:00, 553557.34it/s]\n",
      "100%|██████████| 2000/2000 [00:00<00:00, 514354.53it/s]\n",
      "100%|██████████| 2000/2000 [00:00<00:00, 546845.37it/s]\n",
      "100%|██████████| 2000/2000 [00:00<00:00, 542635.88it/s]\n",
      "100%|██████████| 2000/2000 [00:00<00:00, 588178.94it/s]\n",
      "100%|██████████| 2000/2000 [00:00<00:00, 587766.82it/s]\n",
      "100%|██████████| 2000/2000 [00:00<00:00, 488618.83it/s]\n",
      "100%|██████████| 2000/2000 [00:00<00:00, 514165.37it/s]\n"
     ]
    }
   ],
   "source": [
    "train_loader, valid_loader = get_eurosat_dataloaders(batch_size=4,limit=2000,test_size=.1)"
   ]
  },
  {
   "cell_type": "code",
   "execution_count": 5,
   "id": "721db0d8",
   "metadata": {},
   "outputs": [],
   "source": [
    "for batch in train_loader:\n",
    "    break"
   ]
  },
  {
   "cell_type": "code",
   "execution_count": 8,
   "id": "618e3eb2",
   "metadata": {},
   "outputs": [],
   "source": [
    "from trainer import *"
   ]
  },
  {
   "cell_type": "code",
   "execution_count": null,
   "id": "f0fb2afc",
   "metadata": {},
   "outputs": [],
   "source": []
  },
  {
   "cell_type": "code",
   "execution_count": null,
   "id": "b881a64f",
   "metadata": {},
   "outputs": [],
   "source": []
  }
 ],
 "metadata": {
  "kernelspec": {
   "display_name": "Python 3.9.7 ('nasaeo')",
   "language": "python",
   "name": "python3"
  },
  "language_info": {
   "codemirror_mode": {
    "name": "ipython",
    "version": 3
   },
   "file_extension": ".py",
   "mimetype": "text/x-python",
   "name": "python",
   "nbconvert_exporter": "python",
   "pygments_lexer": "ipython3",
   "version": "3.9.7"
  },
  "vscode": {
   "interpreter": {
    "hash": "8174d00b4958810cb1e9c49820a576b372401130220808744ca9e6c5c9c8b6d0"
   }
  }
 },
 "nbformat": 4,
 "nbformat_minor": 5
}
