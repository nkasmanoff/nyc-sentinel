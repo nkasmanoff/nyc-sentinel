{
 "cells": [
  {
   "cell_type": "code",
   "execution_count": null,
   "id": "68eafc44",
   "metadata": {},
   "outputs": [],
   "source": [
    "# Load Latest Model\n",
    "# Load Image from Sentinel \n",
    "# Predict and Infer Changes"
   ]
  },
  {
   "cell_type": "code",
   "execution_count": 37,
   "id": "26337979",
   "metadata": {},
   "outputs": [],
   "source": [
    "import sys\n",
    "sys.path.append('src')\n",
    "from src.trainer import EuroSATTrainer\n",
    "from src.load_data import get_eurosat_dataloaders\n",
    "import torch\n",
    "import matplotlib.pyplot as plt\n",
    "import numpy as np\n",
    "import pandas as pd\n",
    "%matplotlib inline\n"
   ]
  },
  {
   "cell_type": "code",
   "execution_count": 2,
   "id": "0a6e385c",
   "metadata": {},
   "outputs": [
    {
     "name": "stderr",
     "output_type": "stream",
     "text": [
      "100%|██████████| 100/100 [00:00<00:00, 203804.86it/s]\n",
      "100%|██████████| 100/100 [00:00<00:00, 258429.08it/s]\n",
      "100%|██████████| 100/100 [00:00<00:00, 201165.66it/s]\n",
      "100%|██████████| 100/100 [00:00<00:00, 207433.43it/s]\n",
      "100%|██████████| 100/100 [00:00<00:00, 222391.52it/s]\n",
      "100%|██████████| 100/100 [00:00<00:00, 217434.11it/s]\n",
      "100%|██████████| 100/100 [00:00<00:00, 218795.20it/s]\n",
      "100%|██████████| 100/100 [00:00<00:00, 135518.71it/s]\n",
      "100%|██████████| 100/100 [00:00<00:00, 295165.66it/s]\n",
      "100%|██████████| 100/100 [00:00<00:00, 206311.07it/s]\n"
     ]
    }
   ],
   "source": [
    "train_loader, valid_loader, label_dict = get_eurosat_dataloaders(batch_size = 10, limit=100, test_size = .1)"
   ]
  },
  {
   "cell_type": "code",
   "execution_count": 3,
   "id": "e250af82",
   "metadata": {},
   "outputs": [],
   "source": [
    "for batch in train_loader:\n",
    "    break"
   ]
  },
  {
   "cell_type": "code",
   "execution_count": 4,
   "id": "28bb580d",
   "metadata": {},
   "outputs": [
    {
     "data": {
      "text/plain": [
       "torch.Size([10])"
      ]
     },
     "execution_count": 4,
     "metadata": {},
     "output_type": "execute_result"
    }
   ],
   "source": [
    "batch[1].shape"
   ]
  },
  {
   "cell_type": "code",
   "execution_count": 31,
   "id": "fc1dca26",
   "metadata": {},
   "outputs": [
    {
     "data": {
      "text/plain": [
       "tensor(0.2968)"
      ]
     },
     "execution_count": 31,
     "metadata": {},
     "output_type": "execute_result"
    }
   ],
   "source": []
  },
  {
   "cell_type": "code",
   "execution_count": 28,
   "id": "e5b7ac4c",
   "metadata": {},
   "outputs": [
    {
     "name": "stderr",
     "output_type": "stream",
     "text": [
      "Clipping input data to the valid range for imshow with RGB data ([0..1] for floats or [0..255] for integers).\n"
     ]
    },
    {
     "data": {
      "text/plain": [
       "Text(0.5, 1.0, '/Industrial')"
      ]
     },
     "execution_count": 28,
     "metadata": {},
     "output_type": "execute_result"
    },
    {
     "data": {
      "image/png": "[encoded data removed]",
      "text/plain": [
       "<Figure size 360x360 with 1 Axes>"
      ]
     },
     "metadata": {
      "needs_background": "light"
     },
     "output_type": "display_data"
    }
   ],
   "source": [
    "plt.figure(figsize=(5,5))\n",
    "plt.imshow(batch[0][4].permute(1,2,0))\n",
    "plt.title(label_dict[batch[1][2].item()])"
   ]
  },
  {
   "cell_type": "code",
   "execution_count": 10,
   "id": "2cd5a8a9",
   "metadata": {},
   "outputs": [],
   "source": [
    "best_model_path = 'bin/epoch=34-step=9869.ckpt'\n",
    "model = EuroSATTrainer.load_from_checkpoint(best_model_path)"
   ]
  },
  {
   "cell_type": "code",
   "execution_count": 13,
   "id": "0ca462bc",
   "metadata": {},
   "outputs": [],
   "source": [
    "\n",
    "if torch.cuda.is_available():\n",
    "    model.cuda(); # if available!\n",
    "\n",
    "model.eval();\n",
    "with torch.no_grad():\n",
    "    y_pred = model(batch[0].cuda())"
   ]
  },
  {
   "cell_type": "code",
   "execution_count": 14,
   "id": "d3896f3d",
   "metadata": {},
   "outputs": [
    {
     "name": "stderr",
     "output_type": "stream",
     "text": [
      "/usr/local/lib/python3.6/dist-packages/torch/nn/functional.py:718: UserWarning: Named tensors and all their associated APIs are an experimental feature and subject to change. Please do not use them for anything important until they are released as stable. (Triggered internally at  /media/nvidia/NVME/pytorch/pytorch-v1.9.0/c10/core/TensorImpl.h:1156.)\n",
      "  return torch.max_pool2d(input, kernel_size, stride, padding, dilation, ceil_mode)\n"
     ]
    }
   ],
   "source": [
    "y_pred = model(batch[0].cuda())"
   ]
  },
  {
   "cell_type": "code",
   "execution_count": 20,
   "id": "ed21ff93",
   "metadata": {},
   "outputs": [
    {
     "data": {
      "text/plain": [
       "['/Residential',\n",
       " '/PermanentCrop',\n",
       " '/Industrial',\n",
       " '/PermanentCrop',\n",
       " '/Pasture',\n",
       " '/Industrial',\n",
       " '/River',\n",
       " '/HerbaceousVegetation',\n",
       " '/River',\n",
       " '/River']"
      ]
     },
     "execution_count": 20,
     "metadata": {},
     "output_type": "execute_result"
    }
   ],
   "source": [
    "[label_dict[i.item()] for i in y_pred.argmax(axis=1).detach().cpu()]"
   ]
  },
  {
   "cell_type": "code",
   "execution_count": 21,
   "id": "8bf4eaa0",
   "metadata": {},
   "outputs": [
    {
     "data": {
      "text/plain": [
       "['/Residential',\n",
       " '/PermanentCrop',\n",
       " '/Industrial',\n",
       " '/Pasture',\n",
       " '/PermanentCrop',\n",
       " '/Industrial',\n",
       " '/River',\n",
       " '/HerbaceousVegetation',\n",
       " '/River',\n",
       " '/River']"
      ]
     },
     "execution_count": 21,
     "metadata": {},
     "output_type": "execute_result"
    }
   ],
   "source": [
    "[label_dict[i.item()] for i in batch[1]]"
   ]
  },
  {
   "cell_type": "code",
   "execution_count": 32,
   "id": "704405c1",
   "metadata": {},
   "outputs": [],
   "source": [
    "from PIL import Image"
   ]
  },
  {
   "cell_type": "code",
   "execution_count": 34,
   "id": "6ae11151",
   "metadata": {},
   "outputs": [],
   "source": [
    "img = Image.open('data/2750/Forest/Forest_1.jpg')"
   ]
  },
  {
   "cell_type": "code",
   "execution_count": 36,
   "id": "23d5b10a",
   "metadata": {},
   "outputs": [
    {
     "data": {
      "text/plain": [
       "<ImagingCore at 0x7efa7673d0>"
      ]
     },
     "execution_count": 36,
     "metadata": {},
     "output_type": "execute_result"
    }
   ],
   "source": [
    "img.getdata()"
   ]
  },
  {
   "cell_type": "code",
   "execution_count": 42,
   "id": "397bb8e6",
   "metadata": {},
   "outputs": [
    {
     "data": {
      "text/plain": [
       "29"
      ]
     },
     "execution_count": 42,
     "metadata": {},
     "output_type": "execute_result"
    }
   ],
   "source": [
    "np.asarray(img).min()"
   ]
  },
  {
   "cell_type": "code",
   "execution_count": null,
   "id": "6fbd63fb",
   "metadata": {},
   "outputs": [],
   "source": []
  }
 ],
 "metadata": {
  "kernelspec": {
   "display_name": "Python 3",
   "language": "python",
   "name": "python3"
  },
  "language_info": {
   "codemirror_mode": {
    "name": "ipython",
    "version": 3
   },
   "file_extension": ".py",
   "mimetype": "text/x-python",
   "name": "python",
   "nbconvert_exporter": "python",
   "pygments_lexer": "ipython3",
   "version": "3.6.9"
  }
 },
 "nbformat": 4,
 "nbformat_minor": 5
}
