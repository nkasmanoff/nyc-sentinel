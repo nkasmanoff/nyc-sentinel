{
 "cells": [
  {
   "cell_type": "code",
   "execution_count": 3,
   "id": "f69b9227",
   "metadata": {},
   "outputs": [],
   "source": [
    "import sys\n",
    "sys.path.append('src')\n",
    "from src.trainer import EuroSATTrainer\n",
    "from src.load_data import get_eurosat_dataloaders\n",
    "from src.load_data import download_eurosat_data\n",
    "import geopandas as gpd # for reading shapefiles\n",
    "import folium  # library to create interactive maps\n",
    "from shapely.geometry import MultiPolygon, Polygon\n",
    "import os \n",
    "import rasterio as rio\n",
    "from rasterio.mask import mask\n",
    "import zipfile\n",
    "import rasterio\n",
    "import json\n",
    "import shutil\n",
    "import cv2\n",
    "import numpy as np\n",
    "from tqdm import tqdm\n",
    "import torch\n",
    "from collections import Counter\n",
    "\n",
    "# read credentials.json\n",
    "with open('credentials.json') as f:\n",
    "    credentials = json.load(f)\n",
    "\n",
    "import matplotlib.pyplot as plt\n",
    "%matplotlib inline"
   ]
  },
  {
   "cell_type": "code",
   "execution_count": null,
   "id": "c86f1237",
   "metadata": {},
   "outputs": [],
   "source": [
    "# load model which standardizes input impages\n",
    "best_model_path = 'bin/epoch=23-step=6767.ckpt'\n",
    "model = EuroSATTrainer.load_from_checkpoint(best_model_path)\n",
    "\n",
    "if torch.cuda.is_available():\n",
    "    model.to('cuda:0');\n",
    "    print(\"Model sent to cuda.\")\n",
    "\n"
   ]
  },
  {
   "cell_type": "markdown",
   "id": "81bb1afe",
   "metadata": {},
   "source": [
    "# Comparision between 3 Rasters\n",
    "\n",
    "The below code is for a spot-check esque analysis of 3 images from the same time,"
   ]
  },
  {
   "cell_type": "code",
   "execution_count": null,
   "id": "003c207e",
   "metadata": {},
   "outputs": [],
   "source": [
    "# load rasters (downloaded through Sentinel Data Download Walkthrough.ipynb)\n",
    "earliest_raster = rio.open('data/S2A_MSIL2A_20220226T154221_N0400_R011_T18TWL_20220226T204651.tiff').read()\n",
    "middle_raster = rio.open('data/S2A_MSIL2A_20220510T154821_N0400_R054_T18TWL_20220510T230512.tiff').read()\n",
    "latest_raster = rio.open('data/S2A_MSIL2A_20220825T155151_N0400_R011_T18TWL_20220825T220800.tiff').read()"
   ]
  },
  {
   "cell_type": "code",
   "execution_count": null,
   "id": "9f4b725e",
   "metadata": {},
   "outputs": [],
   "source": [
    "# tiled image setup. Can only feed into model 3x64x64 inputs.\n",
    "tile = 64\n",
    "img_height = latest_raster.shape[1]\n",
    "img_width = latest_raster.shape[2]\n",
    "\n",
    "num_vertical_tiles = img_height // tile\n",
    "num_horizontal_tiles = img_width // tile\n",
    "\n",
    "cropped_latest_img = latest_raster[:,:tile*num_vertical_tiles, :tile*num_horizontal_tiles]\n",
    "cropped_middle_img = middle_raster[:,:tile*num_vertical_tiles, :tile*num_horizontal_tiles]\n",
    "cropped_earliest_img = earliest_raster[:,:tile*num_vertical_tiles, :tile*num_horizontal_tiles]\n"
   ]
  },
  {
   "cell_type": "code",
   "execution_count": null,
   "id": "159edc09",
   "metadata": {},
   "outputs": [],
   "source": [
    "# grab label dictionary\n",
    "_, _, label_dict = get_eurosat_dataloaders(batch_size = 1, limit=1, test_size = .1)"
   ]
  },
  {
   "cell_type": "code",
   "execution_count": null,
   "id": "6a6e5ef1",
   "metadata": {},
   "outputs": [],
   "source": [
    "\n",
    "\n",
    "def get_tiled_predictions(cropped_img):\n",
    "\n",
    "    tiled_array = np.zeros((cropped_img.shape[1],cropped_img.shape[2]))\n",
    "    model.eval();\n",
    "    tile_predictions = []\n",
    "    tiled_images = []\n",
    "    with torch.no_grad():\n",
    "        for i in tqdm(range(0, img_height-tile, tile)):\n",
    "            for j in range(0, img_width-tile, tile):\n",
    "                tiled_image = cropped_img[:,i:i+tile,j:j+tile]        \n",
    "                if tiled_image.std() == 0:\n",
    "                    tiled_array[i:i+tile,j:j+tile] = -1\n",
    "                else:\n",
    "                    x = torch.tensor(tiled_image.astype(np.int16))\n",
    "                    x = (x - x.min()) / (x.max() - x.min())   \n",
    "                    y_pred = model.forward(x.unsqueeze(0).cuda())\n",
    "                    predicted_class = y_pred.argmax().cpu().item()\n",
    "                    tiled_array[i:i+tile,j:j+tile] = predicted_class\n",
    "                    tile_predictions.append(predicted_class)\n",
    "                    tiled_images.append(tiled_image)\n",
    "\n",
    "    return tile_predictions, tiled_array, tiled_images"
   ]
  },
  {
   "cell_type": "code",
   "execution_count": null,
   "id": "d0f837b1",
   "metadata": {},
   "outputs": [],
   "source": [
    "%%time \n",
    "# run inference on a sliding window for all tiles of both images.\n",
    "latest_tile_predictions, latest_tiled_array, latest_tiled_images = get_tiled_predictions(cropped_latest_img)\n",
    "middle_tile_predictions, middle_tiled_array, middle_tiled_images = get_tiled_predictions(cropped_middle_img)\n",
    "earliest_tile_predictions, earliest_tiled_array, earliest_tiled_images = get_tiled_predictions(cropped_earliest_img)\n"
   ]
  },
  {
   "cell_type": "code",
   "execution_count": null,
   "id": "65362a97",
   "metadata": {},
   "outputs": [],
   "source": [
    "# view distribution of land mass classes for later tile\n",
    "tile_counter = Counter(latest_tile_predictions)\n",
    "latest_landmass_counts = {}\n",
    "for key in tile_counter.keys():\n",
    "    landmass = label_dict[key].replace('/','')\n",
    "    latest_landmass_counts[landmass] = tile_counter[key]\n",
    "    \n",
    "plt.figure(figsize=(10,4))    \n",
    "\n",
    "names = list(latest_landmass_counts.keys())\n",
    "values = list(latest_landmass_counts.values())\n",
    "plt.subplot(122)\n",
    "plt.bar(range(len(latest_landmass_counts)), values, tick_label=names)\n",
    "plt.xticks(rotation = 90) # Rotates X-Axis Ticks by 45-degrees\n",
    "plt.subplot(121)\n",
    "plt.imshow(cropped_latest_img.mean(axis=0),cmap='gray')\n",
    "plt.imshow(latest_tiled_array,alpha=.25,cmap='plasma')\n",
    "plt.axis('off')\n",
    "plt.suptitle(\"2022-08-25\",fontsize=20)\n",
    "\n"
   ]
  },
  {
   "cell_type": "code",
   "execution_count": null,
   "id": "53eea440",
   "metadata": {},
   "outputs": [],
   "source": [
    "# view distribution of landmass types for earlier tile\n",
    "tile_counter = Counter(middle_tile_predictions)\n",
    "middle_landmass_counts = {}\n",
    "for key in tile_counter.keys():\n",
    "    landmass = label_dict[key].replace('/','')\n",
    "    middle_landmass_counts[landmass] = tile_counter[key]\n",
    "\n",
    "plt.figure(figsize=(10,4))    \n",
    "names = list(middle_landmass_counts.keys())\n",
    "values = list(middle_landmass_counts.values())\n",
    "plt.subplot(122)\n",
    "plt.bar(range(len(middle_landmass_counts)), values, tick_label=names)\n",
    "plt.xticks(rotation = 90) # Rotates X-Axis Ticks by 45-degrees\n",
    "plt.subplot(121)\n",
    "plt.imshow(cropped_middle_img.mean(axis=0),cmap='gray')\n",
    "plt.imshow(middle_tiled_array,alpha=.25,cmap='plasma')\n",
    "plt.axis('off')\n",
    "plt.suptitle(\"2022-05-10\",fontsize=20)\n",
    "\n"
   ]
  },
  {
   "cell_type": "code",
   "execution_count": null,
   "id": "c5ecfd26",
   "metadata": {},
   "outputs": [],
   "source": [
    "# view distribution of landmass types for earlier tile\n",
    "tile_counter = Counter(earliest_tile_predictions)\n",
    "earliest_landmass_counts = {}\n",
    "for key in tile_counter.keys():\n",
    "    landmass = label_dict[key].replace('/','')\n",
    "    earliest_landmass_counts[landmass] = tile_counter[key]\n",
    "\n",
    "plt.figure(figsize=(10,4))    \n",
    "names = list(earliest_landmass_counts.keys())\n",
    "values = list(earliest_landmass_counts.values())\n",
    "plt.subplot(122)\n",
    "plt.bar(range(len(earliest_landmass_counts)), values, tick_label=names)\n",
    "plt.xticks(rotation = 90) # Rotates X-Axis Ticks by 45-degrees\n",
    "plt.subplot(121)\n",
    "plt.imshow(cropped_earliest_img.mean(axis=0),cmap='gray')\n",
    "plt.imshow(earliest_tiled_array,alpha=.25,cmap='plasma')\n",
    "plt.axis('off')\n",
    "plt.suptitle(\"2022-02-26\",fontsize=20)\n",
    "\n"
   ]
  },
  {
   "cell_type": "markdown",
   "id": "dd2ae623",
   "metadata": {},
   "source": [
    "# get percent change of each"
   ]
  },
  {
   "cell_type": "code",
   "execution_count": null,
   "id": "6707896b",
   "metadata": {},
   "outputs": [],
   "source": [
    "pct_change_landmass = {}\n",
    "for key in middle_landmass_counts:\n",
    "    if key not in latest_landmass_counts:\n",
    "        pct_change_landmass[key] = 0\n",
    "    else:\n",
    "        pct_change_landmass[key] = (latest_landmass_counts[key] - middle_landmass_counts[key]) / middle_landmass_counts[key]\n",
    "        \n",
    "pct_change_landmass = dict(sorted(pct_change_landmass.items(), key=lambda item: item[1]))\n",
    "\n",
    "names = list(pct_change_landmass.keys())\n",
    "values = list(pct_change_landmass.values())\n",
    "\n",
    "plt.bar(range(len(pct_change_landmass)), values, tick_label=names)\n",
    "plt.xticks(rotation = 90) # Rotates X-Axis Ticks by 45-degrees\n",
    "plt.ylabel(\"% Change\",fontsize=15)        "
   ]
  },
  {
   "cell_type": "code",
   "execution_count": null,
   "id": "77b5591f",
   "metadata": {},
   "outputs": [],
   "source": [
    "earliest_landmass_counts, middle_landmass_counts,latest_landmass_counts"
   ]
  },
  {
   "cell_type": "code",
   "execution_count": null,
   "id": "c8df4371",
   "metadata": {},
   "outputs": [],
   "source": [
    "manmade_features = ['Industrial','Highway','Residential']\n",
    "natural_features = ['AnnualCrop','PermanentCrop','HerbaceousVegetation','Forest','Pasture']\n",
    "water_features = ['SeaLake','River']\n"
   ]
  },
  {
   "cell_type": "code",
   "execution_count": null,
   "id": "9e429995",
   "metadata": {},
   "outputs": [],
   "source": [
    "# view plots of all changed landmass predictions\n",
    "for i, (earliest_pred, latest_pred) in enumerate(zip(earliest_tile_predictions,latest_tile_predictions)):\n",
    "    if earliest_pred != latest_pred:\n",
    "        plt.figure(figsize = (6,3))\n",
    "        plt.subplot(121)\n",
    "        plt.imshow(earliest_tiled_images[i].mean(axis=0),cmap='gray')\n",
    "        plt.title(label_dict[earliest_pred].replace('/',''))\n",
    "        plt.subplot(122)\n",
    "        plt.imshow(latest_tiled_images[i].mean(axis=0),cmap='gray')\n",
    "        plt.title(label_dict[latest_pred].replace('/',''))\n"
   ]
  },
  {
   "cell_type": "code",
   "execution_count": null,
   "id": "c550b9b3",
   "metadata": {},
   "outputs": [],
   "source": [
    "tile_prediction_pairs = []\n",
    "for i, (earliest_pred, latest_pred) in enumerate(zip(earliest_tile_predictions,latest_tile_predictions)):\n",
    "    tile_prediction_pairs.append((earliest_pred,latest_pred))"
   ]
  },
  {
   "cell_type": "code",
   "execution_count": null,
   "id": "176a406a",
   "metadata": {},
   "outputs": [],
   "source": [
    "label_dict"
   ]
  },
  {
   "cell_type": "code",
   "execution_count": null,
   "id": "2b1f6ab4",
   "metadata": {},
   "outputs": [],
   "source": [
    "# view what the most common tile prediction changes were.\n",
    "Counter(tile_prediction_pairs).most_common()"
   ]
  },
  {
   "cell_type": "code",
   "execution_count": null,
   "id": "145b3130",
   "metadata": {},
   "outputs": [],
   "source": [
    "\n",
    "for i in tqdm(range(len(tile_prediction_pairs))):\n",
    "    if tile_prediction_pairs[i] == (2,3):\n",
    "\n",
    "        \n",
    "        earliest_pred = earliest_tile_predictions[i]\n",
    "        middle_pred = middle_tile_predictions[i]\n",
    "        latest_pred = latest_tile_predictions[i]\n",
    "        plt.figure(figsize = (9,3))\n",
    "        plt.subplot(131)\n",
    "        plt.imshow(earliest_tiled_images[i].mean(axis=0),cmap='gray')\n",
    "        plt.title(label_dict[earliest_pred].replace('/',''))\n",
    "        plt.subplot(132)\n",
    "        plt.imshow(middle_tiled_images[i].mean(axis=0),cmap='gray')\n",
    "        plt.title(label_dict[middle_pred].replace('/',''))\n",
    "        \n",
    "        plt.subplot(133)\n",
    "        plt.imshow(latest_tiled_images[i].mean(axis=0),cmap='gray')\n",
    "        plt.title(label_dict[latest_pred].replace('/',''))\n"
   ]
  },
  {
   "cell_type": "code",
   "execution_count": null,
   "id": "426aff31",
   "metadata": {},
   "outputs": [],
   "source": [
    "i = tile_prediction_pairs.index((6,3))\n",
    "\n",
    "earliest_pred = earliest_tile_predictions[i]\n",
    "latest_pred = latest_tile_predictions[i]\n",
    "plt.figure(figsize = (6,3))\n",
    "plt.subplot(121)\n",
    "plt.imshow(earliest_tiled_images[i].mean(axis=0),cmap='gray')\n",
    "plt.title(label_dict[earliest_pred].replace('/',''))\n",
    "plt.subplot(122)\n",
    "plt.imshow(latest_tiled_images[i].mean(axis=0),cmap='gray')\n",
    "plt.title(label_dict[latest_pred].replace('/',''))\n"
   ]
  },
  {
   "cell_type": "code",
   "execution_count": 4,
   "id": "660ad9fc",
   "metadata": {},
   "outputs": [],
   "source": [
    "rasters = [f for f in os.listdir('data/') if f.endswith('.tiff')]"
   ]
  },
  {
   "cell_type": "code",
   "execution_count": 26,
   "id": "27407d9b",
   "metadata": {},
   "outputs": [],
   "source": [
    "from datetime import datetime\n"
   ]
  },
  {
   "cell_type": "code",
   "execution_count": 27,
   "id": "e8d240d2",
   "metadata": {},
   "outputs": [],
   "source": [
    "dates = []\n",
    "for img in rasters:\n",
    "    # open image\n",
    "    date = img.split('_')[2].split('T')[0]\n",
    "    year = date[:4]\n",
    "    month = date[4:6]\n",
    "    day = date[6:]\n",
    "    date_str = f\"{year}-{month}-{day}\"\n",
    "    date = datetime.strptime(date_str, '%Y-%m-%d')\n",
    "    dates.append(date)"
   ]
  },
  {
   "cell_type": "code",
   "execution_count": 28,
   "id": "25efeb16",
   "metadata": {},
   "outputs": [
    {
     "data": {
      "text/plain": [
       "[<matplotlib.lines.Line2D at 0x7ef545d208>]"
      ]
     },
     "execution_count": 28,
     "metadata": {},
     "output_type": "execute_result"
    },
    {
     "data": {
      "image/png": "[encoded data removed]",
      "text/plain": [
       "<Figure size 1800x360 with 1 Axes>"
      ]
     },
     "metadata": {
      "needs_background": "light"
     },
     "output_type": "display_data"
    }
   ],
   "source": [
    "plt.figure(figsize=(25,5))\n",
    "plt.plot(dates,[1 for x in dates],'o')"
   ]
  },
  {
   "cell_type": "markdown",
   "id": "3cd73275",
   "metadata": {},
   "source": [
    "And from here can plot pct of a given crop type, and so on. "
   ]
  },
  {
   "cell_type": "code",
   "execution_count": null,
   "id": "c753d23d",
   "metadata": {},
   "outputs": [],
   "source": []
  }
 ],
 "metadata": {
  "kernelspec": {
   "display_name": "Python 3",
   "language": "python",
   "name": "python3"
  },
  "language_info": {
   "codemirror_mode": {
    "name": "ipython",
    "version": 3
   },
   "file_extension": ".py",
   "mimetype": "text/x-python",
   "name": "python",
   "nbconvert_exporter": "python",
   "pygments_lexer": "ipython3",
   "version": "3.6.9"
  }
 },
 "nbformat": 4,
 "nbformat_minor": 5
}
