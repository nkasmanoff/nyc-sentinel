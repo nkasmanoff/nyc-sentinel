{
 "cells": [
  {
   "cell_type": "code",
   "execution_count": 3,
   "metadata": {},
   "outputs": [],
   "source": [
    "from sentinelsat import SentinelAPI, make_path_filter # for downloading data\n",
    "import geopandas as gpd # for reading shapefiles\n",
    "import folium  # library to create interactive maps\n",
    "from shapely.geometry import MultiPolygon, Polygon\n",
    "import os \n",
    "import rasterio as rio\n",
    "from rasterio.mask import mask\n",
    "import zipfile\n",
    "import rasterio\n",
    "import json\n",
    "# read credentials.json\n",
    "with open('credentials.json') as f:\n",
    "    credentials = json.load(f)\n",
    "\n",
    "user = credentials['SENTINEL_USER']\n",
    "password = credentials['SENTINEL_PASSWORD']\n",
    "api = SentinelAPI(user, password, 'https://scihub.copernicus.eu/dhus')\n",
    "import matplotlib.pyplot as plt\n",
    "%matplotlib inline"
   ]
  },
  {
   "cell_type": "code",
   "execution_count": 4,
   "metadata": {},
   "outputs": [],
   "source": [
    "nyc_geo = gpd.read_file('data/layers/POLYGON.shp')"
   ]
  },
  {
   "cell_type": "code",
   "execution_count": 5,
   "metadata": {},
   "outputs": [
    {
     "data": {
      "text/html": [
       "<div style=\"width:100%;\"><div style=\"position:relative;width:100%;height:0;padding-bottom:60%;\"><span style=\"color:#565656\">Make this Notebook Trusted to load map: File -> Trust Notebook</span><iframe srcdoc=\"&lt;!DOCTYPE html&gt;\n",
       "&lt;head&gt;    \n",
       "    &lt;meta http-equiv=&quot;content-type&quot; content=&quot;text/html; charset=UTF-8&quot; /&gt;\n",
       "    \n",
       "        &lt;script&gt;\n",
       "            L_NO_TOUCH = false;\n",
       "            L_DISABLE_3D = false;\n",
       "        &lt;/script&gt;\n",
       "    \n",
       "    &lt;style&gt;html, body {width: 100%;height: 100%;margin: 0;padding: 0;}&lt;/style&gt;\n",
       "    &lt;style&gt;#map {position:absolute;top:0;bottom:0;right:0;left:0;}&lt;/style&gt;\n",
       "    &lt;script src=&quot;https://cdn.jsdelivr.net/npm/leaflet@1.6.0/dist/leaflet.js&quot;&gt;&lt;/script&gt;\n",
       "    &lt;script src=&quot;https://code.jquery.com/jquery-1.12.4.min.js&quot;&gt;&lt;/script&gt;\n",
       "    &lt;script src=&quot;https://maxcdn.bootstrapcdn.com/bootstrap/3.2.0/js/bootstrap.min.js&quot;&gt;&lt;/script&gt;\n",
       "    &lt;script src=&quot;https://cdnjs.cloudflare.com/ajax/libs/Leaflet.awesome-markers/2.0.2/leaflet.awesome-markers.js&quot;&gt;&lt;/script&gt;\n",
       "    &lt;link rel=&quot;stylesheet&quot; href=&quot;https://cdn.jsdelivr.net/npm/leaflet@1.6.0/dist/leaflet.css&quot;/&gt;\n",
       "    &lt;link rel=&quot;stylesheet&quot; href=&quot;https://maxcdn.bootstrapcdn.com/bootstrap/3.2.0/css/bootstrap.min.css&quot;/&gt;\n",
       "    &lt;link rel=&quot;stylesheet&quot; href=&quot;https://maxcdn.bootstrapcdn.com/bootstrap/3.2.0/css/bootstrap-theme.min.css&quot;/&gt;\n",
       "    &lt;link rel=&quot;stylesheet&quot; href=&quot;https://maxcdn.bootstrapcdn.com/font-awesome/4.6.3/css/font-awesome.min.css&quot;/&gt;\n",
       "    &lt;link rel=&quot;stylesheet&quot; href=&quot;https://cdnjs.cloudflare.com/ajax/libs/Leaflet.awesome-markers/2.0.2/leaflet.awesome-markers.css&quot;/&gt;\n",
       "    &lt;link rel=&quot;stylesheet&quot; href=&quot;https://cdn.jsdelivr.net/gh/python-visualization/folium/folium/templates/leaflet.awesome.rotate.min.css&quot;/&gt;\n",
       "    \n",
       "            &lt;meta name=&quot;viewport&quot; content=&quot;width=device-width,\n",
       "                initial-scale=1.0, maximum-scale=1.0, user-scalable=no&quot; /&gt;\n",
       "            &lt;style&gt;\n",
       "                #map_538d47684378abc16e6e73325b1122de {\n",
       "                    position: relative;\n",
       "                    width: 100.0%;\n",
       "                    height: 100.0%;\n",
       "                    left: 0.0%;\n",
       "                    top: 0.0%;\n",
       "                }\n",
       "            &lt;/style&gt;\n",
       "        \n",
       "&lt;/head&gt;\n",
       "&lt;body&gt;    \n",
       "    \n",
       "            &lt;div class=&quot;folium-map&quot; id=&quot;map_538d47684378abc16e6e73325b1122de&quot; &gt;&lt;/div&gt;\n",
       "        \n",
       "&lt;/body&gt;\n",
       "&lt;script&gt;    \n",
       "    \n",
       "            var map_538d47684378abc16e6e73325b1122de = L.map(\n",
       "                &quot;map_538d47684378abc16e6e73325b1122de&quot;,\n",
       "                {\n",
       "                    center: [40.73061, -73.935242],\n",
       "                    crs: L.CRS.EPSG3857,\n",
       "                    zoom: 10,\n",
       "                    zoomControl: true,\n",
       "                    preferCanvas: false,\n",
       "                }\n",
       "            );\n",
       "\n",
       "            \n",
       "\n",
       "        \n",
       "    \n",
       "            var tile_layer_c0a64cc65658a7504ba76a8cd99028b9 = L.tileLayer(\n",
       "                &quot;https://{s}.tile.openstreetmap.org/{z}/{x}/{y}.png&quot;,\n",
       "                {&quot;attribution&quot;: &quot;Data by \\u0026copy; \\u003ca href=\\&quot;http://openstreetmap.org\\&quot;\\u003eOpenStreetMap\\u003c/a\\u003e, under \\u003ca href=\\&quot;http://www.openstreetmap.org/copyright\\&quot;\\u003eODbL\\u003c/a\\u003e.&quot;, &quot;detectRetina&quot;: false, &quot;maxNativeZoom&quot;: 18, &quot;maxZoom&quot;: 18, &quot;minZoom&quot;: 0, &quot;noWrap&quot;: false, &quot;opacity&quot;: 1, &quot;subdomains&quot;: &quot;abc&quot;, &quot;tms&quot;: false}\n",
       "            ).addTo(map_538d47684378abc16e6e73325b1122de);\n",
       "        \n",
       "    \n",
       "\n",
       "        function geo_json_9aae5e35f04e44e5a281b9e9c7a57393_onEachFeature(feature, layer) {\n",
       "            layer.on({\n",
       "            });\n",
       "        };\n",
       "        var geo_json_9aae5e35f04e44e5a281b9e9c7a57393 = L.geoJson(null, {\n",
       "                onEachFeature: geo_json_9aae5e35f04e44e5a281b9e9c7a57393_onEachFeature,\n",
       "            \n",
       "        });\n",
       "\n",
       "        function geo_json_9aae5e35f04e44e5a281b9e9c7a57393_add (data) {\n",
       "            geo_json_9aae5e35f04e44e5a281b9e9c7a57393\n",
       "                .addData(data)\n",
       "                .addTo(map_538d47684378abc16e6e73325b1122de);\n",
       "        }\n",
       "            geo_json_9aae5e35f04e44e5a281b9e9c7a57393_add({&quot;bbox&quot;: [-74.11308288574219, 40.6749098501149, -73.84597778320312, 40.881852261133716], &quot;features&quot;: [{&quot;bbox&quot;: [-74.11308288574219, 40.6749098501149, -73.84597778320312, 40.881852261133716], &quot;geometry&quot;: {&quot;coordinates&quot;: [[[-74.10484313964844, 40.704586878965245], [-73.9874267578125, 40.6749098501149], [-73.91258239746094, 40.69573721839922], [-73.84597778320312, 40.75401921961654], [-73.86383056640625, 40.82576077323659], [-73.970947265625, 40.881852261133716], [-74.11308288574219, 40.85381245334478], [-74.10484313964844, 40.704586878965245]]], &quot;type&quot;: &quot;Polygon&quot;}, &quot;id&quot;: &quot;0&quot;, &quot;properties&quot;: {}, &quot;type&quot;: &quot;Feature&quot;}], &quot;type&quot;: &quot;FeatureCollection&quot;});\n",
       "\n",
       "        \n",
       "&lt;/script&gt;\" style=\"position:absolute;width:100%;height:100%;left:0;top:0;border:none !important;\" allowfullscreen webkitallowfullscreen mozallowfullscreen></iframe></div></div>"
      ],
      "text/plain": [
       "<folium.folium.Map at 0x7ff5216b4850>"
      ]
     },
     "execution_count": 5,
     "metadata": {},
     "output_type": "execute_result"
    }
   ],
   "source": [
    "m = folium.Map([40.730610, -73.935242], zoom_start=10) # New York City\n",
    "\n",
    "folium.GeoJson(nyc_geo).add_to(m)\n",
    "# visualize the map\n",
    "m"
   ]
  },
  {
   "cell_type": "code",
   "execution_count": 6,
   "metadata": {},
   "outputs": [],
   "source": [
    "footprint = None\n",
    "for i in nyc_geo['geometry']:\n",
    "    footprint = i"
   ]
  },
  {
   "cell_type": "code",
   "execution_count": 7,
   "id": "0d910dc5",
   "metadata": {},
   "outputs": [],
   "source": [
    "def get_bands(imagery_folders):\n",
    "    for imagery in imagery_folders:\n",
    "        l2a_folder = os.listdir(f'{imagery}/GRANULE')[0]\n",
    "        r10_path = f\"{imagery}/GRANULE/{l2a_folder}/IMG_DATA/R10m\"\n",
    "        for band in os.listdir(r10_path):\n",
    "        # extract bands 2,3, and 4 from r10:\n",
    "\n",
    "            if 'B02' in band:\n",
    "                b2 = rio.open(f\"{r10_path}/{band}\")\n",
    "            elif 'B03' in band:\n",
    "                b3 = rio.open(f\"{r10_path}/{band}\")\n",
    "            elif 'B04' in band:\n",
    "                b4 = rio.open(f\"{r10_path}/{band}\")\n",
    "\n",
    "    return b2, b3, b4"
   ]
  },
  {
   "cell_type": "code",
   "execution_count": 8,
   "id": "b49cbca2",
   "metadata": {},
   "outputs": [],
   "source": [
    "image_path_2 = 'S2A_MSIL2A_20220825T155151_N0400_R011_T18TWL_20220825T220800.SAFE'\n",
    "image_path_1 = 'S2B_MSIL2A_20220316T154909_N0400_R054_T18TWL_20220316T205909.SAFE'"
   ]
  },
  {
   "cell_type": "code",
   "execution_count": 9,
   "id": "8ea0dfae",
   "metadata": {},
   "outputs": [
    {
     "ename": "FileNotFoundError",
     "evalue": "[Errno 2] No such file or directory: 'S/GRANULE'",
     "output_type": "error",
     "traceback": [
      "\u001b[0;31m---------------------------------------------------------------------------\u001b[0m",
      "\u001b[0;31mFileNotFoundError\u001b[0m                         Traceback (most recent call last)",
      "\u001b[0;32m/var/folders/27/vq5y844134sb8423ngwxqzgc0000gn/T/ipykernel_9638/3000387992.py\u001b[0m in \u001b[0;36m<module>\u001b[0;34m\u001b[0m\n\u001b[0;32m----> 1\u001b[0;31m \u001b[0mb2\u001b[0m\u001b[0;34m,\u001b[0m \u001b[0mb3\u001b[0m\u001b[0;34m,\u001b[0m \u001b[0mb4\u001b[0m \u001b[0;34m=\u001b[0m \u001b[0mget_bands\u001b[0m\u001b[0;34m(\u001b[0m\u001b[0mimage_path_1\u001b[0m\u001b[0;34m)\u001b[0m\u001b[0;34m\u001b[0m\u001b[0;34m\u001b[0m\u001b[0m\n\u001b[0m",
      "\u001b[0;32m/var/folders/27/vq5y844134sb8423ngwxqzgc0000gn/T/ipykernel_9638/165069289.py\u001b[0m in \u001b[0;36mget_bands\u001b[0;34m(imagery_folders)\u001b[0m\n\u001b[1;32m      1\u001b[0m \u001b[0;32mdef\u001b[0m \u001b[0mget_bands\u001b[0m\u001b[0;34m(\u001b[0m\u001b[0mimagery_folders\u001b[0m\u001b[0;34m)\u001b[0m\u001b[0;34m:\u001b[0m\u001b[0;34m\u001b[0m\u001b[0;34m\u001b[0m\u001b[0m\n\u001b[1;32m      2\u001b[0m     \u001b[0;32mfor\u001b[0m \u001b[0mimagery\u001b[0m \u001b[0;32min\u001b[0m \u001b[0mimagery_folders\u001b[0m\u001b[0;34m:\u001b[0m\u001b[0;34m\u001b[0m\u001b[0;34m\u001b[0m\u001b[0m\n\u001b[0;32m----> 3\u001b[0;31m         \u001b[0ml2a_folder\u001b[0m \u001b[0;34m=\u001b[0m \u001b[0mos\u001b[0m\u001b[0;34m.\u001b[0m\u001b[0mlistdir\u001b[0m\u001b[0;34m(\u001b[0m\u001b[0;34mf'{imagery}/GRANULE'\u001b[0m\u001b[0;34m)\u001b[0m\u001b[0;34m[\u001b[0m\u001b[0;36m0\u001b[0m\u001b[0;34m]\u001b[0m\u001b[0;34m\u001b[0m\u001b[0;34m\u001b[0m\u001b[0m\n\u001b[0m\u001b[1;32m      4\u001b[0m         \u001b[0mr10_path\u001b[0m \u001b[0;34m=\u001b[0m \u001b[0;34mf\"{imagery}/GRANULE/{l2a_folder}/IMG_DATA/R10m\"\u001b[0m\u001b[0;34m\u001b[0m\u001b[0;34m\u001b[0m\u001b[0m\n\u001b[1;32m      5\u001b[0m         \u001b[0;32mfor\u001b[0m \u001b[0mband\u001b[0m \u001b[0;32min\u001b[0m \u001b[0mos\u001b[0m\u001b[0;34m.\u001b[0m\u001b[0mlistdir\u001b[0m\u001b[0;34m(\u001b[0m\u001b[0mr10_path\u001b[0m\u001b[0;34m)\u001b[0m\u001b[0;34m:\u001b[0m\u001b[0;34m\u001b[0m\u001b[0;34m\u001b[0m\u001b[0m\n",
      "\u001b[0;31mFileNotFoundError\u001b[0m: [Errno 2] No such file or directory: 'S/GRANULE'"
     ]
    }
   ],
   "source": [
    "b2, b3, b4 = get_bands(image_path_1)\n"
   ]
  },
  {
   "cell_type": "code",
   "execution_count": null,
   "id": "4190fdde",
   "metadata": {},
   "outputs": [],
   "source": [
    "for product_id in products_gdf_sorted.index:\n",
    "    is_online = api.is_online(product_id)\n",
    "    if is_online:\n",
    "        downloaded_artifact = api.download(product_id)\n",
    "    else:\n",
    "        continue\n",
    "    zip_file = downloaded_artifact['path']\n",
    "\n",
    "    try:\n",
    "        with zipfile.ZipFile(zip_file) as z:\n",
    "            z.extractall()\n",
    "            print(\"Extracted all\")\n",
    "            os.remove(zip_file)\n",
    "    except:\n",
    "        print(\"Invalid file\")\n",
    "    for f in os.listdir():\n",
    "\n",
    "    imagery_folders = downloaded_artifact.replace('.zip','.SAFE')\n",
    "    b2, b3, b4 = get_bands(imagery_folders)\n",
    "    # this will take a while on the Nano..\n",
    "    with rio.open('RGB.tiff','w',driver='Gtiff', width=b4.width, height=b4.height, \n",
    "                count=3,crs=b4.crs,transform=b4.transform, dtype=b4.dtypes[0]) as rgb:\n",
    "        rgb.write(b2.read(1),1) \n",
    "        rgb.write(b3.read(1),2) \n",
    "        rgb.write(b4.read(1),3) \n",
    "        rgb.close()\n",
    "\n",
    "    with rio.open(\"RGB.tiff\") as src:\n",
    "        out_meta = src.meta.copy()\n",
    "        nyc_geo_projected = nyc_geo.to_crs(out_meta['crs'].data)\n",
    "        out_image, out_transform = mask(src, nyc_geo_projected.geometry,crop=True) #TODO: note that projected has to be in the geo from out_meta. \n",
    "        out_meta = src.meta.copy()\n",
    "        out_meta.update({\"driver\": \"GTiff\",\n",
    "                    \"height\": out_image.shape[1],\n",
    "                    \"width\": out_image.shape[2],\n",
    "                    \"transform\": out_transform})\n",
    "        \n",
    "    with rasterio.open(f\"{downloaded_artifact['title']}.tiff\", \"w\", **out_meta) as dest:\n",
    "        dest.write(out_image)\n",
    "\n",
    "    os.remove(\"RGB.tiff\")\n",
    "\n",
    "    try:\n",
    "        os.remove(\"RGB.tiff\")\n",
    "        os.remove(downloaded_artifact['path'])\n",
    "    except Exception as e:\n",
    "        pass\n",
    "    plt.figure(figsize=(5,10))    \n",
    "    plt.title(downloaded_artifact['title'])\n",
    "    plt.imshow(out_image[0],cmap='gray')"
   ]
  },
  {
   "cell_type": "code",
   "execution_count": null,
   "id": "5cfa8f58",
   "metadata": {},
   "outputs": [],
   "source": [
    "rasters = []\n",
    "for f in os.listdir():\n",
    "    if '.tiff' in f:\n",
    "        print(f)\n",
    "        src = rio.open(f).read()\n",
    "        rasters.append(src)\n"
   ]
  },
  {
   "cell_type": "code",
   "execution_count": null,
   "id": "6b221eb9",
   "metadata": {},
   "outputs": [],
   "source": [
    "!pip install scikit-image"
   ]
  },
  {
   "cell_type": "code",
   "execution_count": null,
   "id": "a45890fa",
   "metadata": {},
   "outputs": [],
   "source": [
    "first = rasters[0]\n",
    "second = rasters[1]"
   ]
  },
  {
   "cell_type": "code",
   "execution_count": null,
   "id": "bf133974",
   "metadata": {},
   "outputs": [],
   "source": [
    "img_avg = (first.mean(axis=0) - second.mean(axis=0))"
   ]
  },
  {
   "cell_type": "code",
   "execution_count": null,
   "id": "2655e1a3",
   "metadata": {},
   "outputs": [],
   "source": [
    "np.argmax(img_avg,keepdims=True)"
   ]
  },
  {
   "cell_type": "code",
   "execution_count": null,
   "id": "6e9c19b1",
   "metadata": {},
   "outputs": [],
   "source": [
    "import numpy as np"
   ]
  },
  {
   "cell_type": "code",
   "execution_count": null,
   "id": "60aa38f8",
   "metadata": {},
   "outputs": [],
   "source": [
    "\n",
    "max_x, max_y = np.unravel_index(np.argmax(img_avg), img_avg.shape)\n"
   ]
  },
  {
   "cell_type": "code",
   "execution_count": null,
   "id": "af347425",
   "metadata": {},
   "outputs": [],
   "source": [
    "max_x, max_y"
   ]
  },
  {
   "cell_type": "code",
   "execution_count": null,
   "id": "b387788d",
   "metadata": {},
   "outputs": [],
   "source": [
    "plt.imshow(img_avg[max_x-32:max_x+32,max_y-32:max_y+32],cmap='pink')"
   ]
  },
  {
   "cell_type": "code",
   "execution_count": null,
   "id": "441c49ec",
   "metadata": {},
   "outputs": [],
   "source": [
    "plt.imshow(first[0,max_x-100:max_x+100,max_y-60:max_y+60],cmap='pink')"
   ]
  },
  {
   "cell_type": "code",
   "execution_count": null,
   "id": "ccfafa74",
   "metadata": {},
   "outputs": [],
   "source": [
    "plt.imshow(second[0,max_x-100:max_x+100,max_y-60:max_y+60],cmap='pink')"
   ]
  },
  {
   "cell_type": "code",
   "execution_count": null,
   "id": "3a99b6e5",
   "metadata": {},
   "outputs": [],
   "source": [
    "\n",
    "plt.imshow(first[0],cmap='pink')"
   ]
  },
  {
   "cell_type": "code",
   "execution_count": null,
   "id": "f13c3b4f",
   "metadata": {},
   "outputs": [],
   "source": [
    "plt.imshow(rasters[1][0] - rasters[1][0] ,cmap='pink')"
   ]
  },
  {
   "cell_type": "code",
   "execution_count": null,
   "id": "be8209c1",
   "metadata": {},
   "outputs": [],
   "source": []
  },
  {
   "cell_type": "code",
   "execution_count": null,
   "id": "ff5a0ea7",
   "metadata": {},
   "outputs": [],
   "source": [
    "import cv2"
   ]
  },
  {
   "cell_type": "code",
   "execution_count": null,
   "id": "94e3a490",
   "metadata": {},
   "outputs": [],
   "source": [
    "(score, diff) = structural_similarity(first.mean(axis=0), second.mean(axis=0), full=True)"
   ]
  },
  {
   "cell_type": "code",
   "execution_count": null,
   "id": "ea4c245f",
   "metadata": {},
   "outputs": [],
   "source": [
    "diff[diff > .25] = 1"
   ]
  },
  {
   "cell_type": "code",
   "execution_count": null,
   "id": "8cfe909d",
   "metadata": {},
   "outputs": [],
   "source": [
    "diff = (diff * 255).astype(\"uint8\")\n",
    "diff_box = cv2.merge([diff, diff, diff])"
   ]
  },
  {
   "cell_type": "code",
   "execution_count": null,
   "id": "f41393b1",
   "metadata": {},
   "outputs": [],
   "source": [
    "(score, diff) = structural_similarity(first.mean(axis=0), second.mean(axis=0), full=True)\n",
    "\n",
    "diff[diff > .75] = 1\n",
    "\n",
    "diff = (diff * 255).astype(\"uint8\")\n",
    "diff_box = cv2.merge([diff, diff, diff])\n",
    "\n",
    "# Threshold the difference image, followed by finding contours to\n",
    "# obtain the regions of the two input images that differ\n",
    "thresh = cv2.threshold(diff, 0, 255, cv2.THRESH_BINARY_INV | cv2.THRESH_OTSU)[1]\n",
    "contours = cv2.findContours(thresh, cv2.RETR_EXTERNAL, cv2.CHAIN_APPROX_SIMPLE)\n",
    "contours = contours[0] if len(contours) == 2 else contours[1]\n",
    "\n",
    "mask = np.zeros(img_avg.shape, dtype='uint8')\n",
    "for c in contours:\n",
    "    area = cv2.contourArea(c)\n",
    "    if 2000 < area < 4000:\n",
    "        cv2.drawContours(mask, [c], 0, (255,255,255), -1)\n",
    "        break\n",
    "plt.figure(figsize=(55,25))\n",
    "plt.imshow(second.mean(axis=0))\n",
    "plt.imshow(mask,alpha=.05)\n"
   ]
  },
  {
   "cell_type": "code",
   "execution_count": null,
   "id": "2aff3d13",
   "metadata": {},
   "outputs": [],
   "source": [
    "contour_y, contour_x = c[1][0]"
   ]
  },
  {
   "cell_type": "code",
   "execution_count": null,
   "id": "ddefe9b2",
   "metadata": {},
   "outputs": [],
   "source": [
    "contour_y"
   ]
  },
  {
   "cell_type": "code",
   "execution_count": null,
   "id": "6e8d4656",
   "metadata": {},
   "outputs": [],
   "source": [
    "plt.imshow(first[0][contour_x - 32:contour_x+32, contour_y - 32:contour_y+32],cmap='pink')"
   ]
  },
  {
   "cell_type": "code",
   "execution_count": null,
   "id": "a53eb63f",
   "metadata": {},
   "outputs": [],
   "source": [
    "plt.imshow(second[0][contour_x - 32:contour_x+32, contour_y - 32:contour_y+32],cmap='pink')"
   ]
  },
  {
   "cell_type": "code",
   "execution_count": null,
   "id": "a8ed7b8a",
   "metadata": {},
   "outputs": [],
   "source": [
    "first.shape"
   ]
  },
  {
   "cell_type": "code",
   "execution_count": null,
   "id": "1b6cce9d",
   "metadata": {},
   "outputs": [],
   "source": [
    "mask"
   ]
  },
  {
   "cell_type": "code",
   "execution_count": null,
   "id": "d47d53b8",
   "metadata": {},
   "outputs": [],
   "source": [
    "mask = np.zeros(img_avg.shape, dtype='uint8')\n",
    "for c in contours:\n",
    "    area = cv2.contourArea(c)\n",
    "    if 1000 < area < 4000:\n",
    "        cv2.drawContours(mask, [c], 0, (255,255,255), -1)\n",
    "\n",
    "plt.imshow(mask)\n"
   ]
  },
  {
   "cell_type": "code",
   "execution_count": null,
   "id": "715e1919",
   "metadata": {},
   "outputs": [],
   "source": [
    "plt.imshow(mask)"
   ]
  },
  {
   "cell_type": "code",
   "execution_count": null,
   "id": "9f645d4d",
   "metadata": {},
   "outputs": [],
   "source": []
  }
 ],
 "metadata": {
  "kernelspec": {
   "display_name": "Python 3.9.7 ('nasaeo')",
   "language": "python",
   "name": "python3"
  },
  "language_info": {
   "codemirror_mode": {
    "name": "ipython",
    "version": 3
   },
   "file_extension": ".py",
   "mimetype": "text/x-python",
   "name": "python",
   "nbconvert_exporter": "python",
   "pygments_lexer": "ipython3",
   "version": "3.9.7"
  },
  "vscode": {
   "interpreter": {
    "hash": "8174d00b4958810cb1e9c49820a576b372401130220808744ca9e6c5c9c8b6d0"
   }
  }
 },
 "nbformat": 4,
 "nbformat_minor": 5
}
