{
 "cells": [
  {
   "cell_type": "code",
   "execution_count": 1,
   "id": "9fd747b5",
   "metadata": {},
   "outputs": [],
   "source": [
    "from sentinelsat import SentinelAPI # for downloading data\n",
    "import geopandas as gpd # for reading shapefiles\n",
    "import folium  # library to create interactive maps\n",
    "from shapely.geometry import MultiPolygon, Polygon\n",
    "import os \n",
    "import rasterio as rio\n",
    "from rasterio.mask import mask\n",
    "\n",
    "import json\n",
    "# read credentials.json\n",
    "with open('credentials.json') as f:\n",
    "    credentials = json.load(f)\n",
    "\n",
    "user = credentials['SENTINEL_USER']\n",
    "password = credentials['SENTINEL_PASSWORD']\n",
    "api = SentinelAPI(user, password, 'https://scihub.copernicus.eu/dhus')\n",
    "import matplotlib.pyplot as plt\n",
    "%matplotlib inline"
   ]
  },
  {
   "cell_type": "code",
   "execution_count": null,
   "id": "e0db9156",
   "metadata": {},
   "outputs": [],
   "source": []
  },
  {
   "cell_type": "code",
   "execution_count": 4,
   "id": "109ee4be",
   "metadata": {},
   "outputs": [],
   "source": [
    "nyc_geo = gpd.read_file('manhattan/POLYGON.shp')"
   ]
  },
  {
   "cell_type": "code",
   "execution_count": 5,
   "id": "5d957bbf",
   "metadata": {},
   "outputs": [
    {
     "data": {
      "image/svg+xml": [
       "<svg xmlns=\"http://www.w3.org/2000/svg\" xmlns:xlink=\"http://www.w3.org/1999/xlink\" width=\"100.0\" height=\"100.0\" viewBox=\"-74.03207515005714 40.69163455019218 0.13461538800490302 0.19510772585920932\" preserveAspectRatio=\"xMinYMin meet\"><g transform=\"matrix(1,0,0,-1,0,81.57837682624356)\"><path fill-rule=\"evenodd\" fill=\"#66cc99\" stroke=\"#555555\" stroke-width=\"0.0039021545171841867\" opacity=\"0.6\" d=\"M -73.92906188964844,40.87951606398253 L -73.93901824951172,40.86030420568381 L -73.95034790039062,40.852254338121625 L -73.94725799560547,40.84446321237158 L -73.95652770996094,40.831475967182925 L -74.01111602783203,40.757400090129245 L -74.01248931884766,40.74699686227002 L -74.01626586914062,40.73190929073145 L -74.02484893798828,40.7105727473657 L -74.02210235595702,40.701463603604594 L -74.01283264160156,40.698860762261035 L -73.99703979492188,40.7066689811733 L -73.9760971069336,40.70927151739562 L -73.96785736083983,40.72124187397379 L -73.9712905883789,40.73607172122901 L -73.9548110961914,40.75974059207392 L -73.9383316040039,40.78106136942476 L -73.9266586303711,40.79509814519895 L -73.93077850341797,40.83199550584334 L -73.9046859741211,40.871728144624974 L -73.92906188964844,40.87951606398253 z\" /></g></svg>"
      ],
      "text/plain": [
       "<shapely.geometry.polygon.Polygon at 0x7fa8e5eb38>"
      ]
     },
     "execution_count": 5,
     "metadata": {},
     "output_type": "execute_result"
    }
   ],
   "source": [
    "nyc_geo['geometry'].values[0]"
   ]
  },
  {
   "cell_type": "code",
   "execution_count": null,
   "id": "5a1db50e",
   "metadata": {},
   "outputs": [],
   "source": [
    "m = folium.Map([40.730610, -73.935242], zoom_start=10) # New York City\n"
   ]
  },
  {
   "cell_type": "code",
   "execution_count": null,
   "id": "55510d67",
   "metadata": {},
   "outputs": [],
   "source": [
    "folium.GeoJson(nyc_geo).add_to(m)\n",
    "# visualize the map\n",
    "m"
   ]
  },
  {
   "cell_type": "code",
   "execution_count": null,
   "id": "f761f4ca",
   "metadata": {},
   "outputs": [],
   "source": [
    "footprint = None\n",
    "for i in nyc_geo['geometry']:\n",
    "    footprint = i"
   ]
  },
  {
   "cell_type": "code",
   "execution_count": null,
   "id": "376b728a",
   "metadata": {},
   "outputs": [],
   "source": [
    "products = api.query(footprint,\n",
    "                     date = ('20220101', '20220901'),\n",
    "                     platformname = 'Sentinel-2',\n",
    "                     processinglevel = 'Level-2A',\n",
    "                     cloudcoverpercentage = (0,10)\n",
    "                    )"
   ]
  },
  {
   "cell_type": "code",
   "execution_count": null,
   "id": "f30791e6",
   "metadata": {},
   "outputs": [],
   "source": [
    "products_gdf = api.to_geodataframe(products)\n",
    "products_gdf_sorted = products_gdf.sort_values(['cloudcoverpercentage'], ascending=[True])\n",
    "products_gdf_sorted.shape"
   ]
  },
  {
   "cell_type": "code",
   "execution_count": null,
   "id": "77cf4f15",
   "metadata": {},
   "outputs": [],
   "source": [
    "downloaded_image = api.download(products_gdf.index[0])"
   ]
  },
  {
   "cell_type": "code",
   "execution_count": null,
   "id": "863c0565",
   "metadata": {},
   "outputs": [],
   "source": [
    "downloaded_image['path']"
   ]
  },
  {
   "cell_type": "code",
   "execution_count": null,
   "id": "4ea784d1",
   "metadata": {},
   "outputs": [],
   "source": [
    "import zipfile\n",
    " \n",
    "zip_file = downloaded_image['path']\n",
    "\n",
    "try:\n",
    "    with zipfile.ZipFile(zip_file) as z:\n",
    "        z.extractall()\n",
    "        print(\"Extracted all\")\n",
    "except:\n",
    "    print(\"Invalid file\")"
   ]
  },
  {
   "cell_type": "code",
   "execution_count": null,
   "id": "7003bab1",
   "metadata": {},
   "outputs": [],
   "source": [
    "imagery_folders = [x for x in os.listdir() if x.endswith('SAFE')]"
   ]
  },
  {
   "cell_type": "code",
   "execution_count": null,
   "id": "7d5e96ce",
   "metadata": {},
   "outputs": [],
   "source": [
    "for imagery in imagery_folders:\n",
    "    l2a_folder = os.listdir(f'{imagery}/GRANULE')[0]\n",
    "    r10_path = f\"{imagery}/GRANULE/{l2a_folder}/IMG_DATA/R10m\"\n",
    "    for band in os.listdir(r10_path):\n",
    "    # extract bands 2,3, and 4 from r10:\n",
    "\n",
    "        if 'B02' in band:\n",
    "            b2 = rio.open(f\"{r10_path}/{band}\")\n",
    "        elif 'B03' in band:\n",
    "            b3 = rio.open(f\"{r10_path}/{band}\")\n",
    "        elif 'B04' in band:\n",
    "            b4 = rio.open(f\"{r10_path}/{band}\")"
   ]
  },
  {
   "cell_type": "code",
   "execution_count": null,
   "id": "08530913",
   "metadata": {},
   "outputs": [],
   "source": [
    "\n",
    "band2_img = b2.read(1)\n",
    "band3_img = b3.read(1)\n",
    "band4_img = b4.read(1)"
   ]
  },
  {
   "cell_type": "code",
   "execution_count": null,
   "id": "ce4b83ed",
   "metadata": {},
   "outputs": [],
   "source": [
    "plt.imshow(band4_img[:4000,:4000])"
   ]
  },
  {
   "cell_type": "code",
   "execution_count": null,
   "id": "a07a70ec",
   "metadata": {},
   "outputs": [],
   "source": [
    "# this will take a while on the Nano..\n",
    "with rio.open('RGB.tiff','w',driver='Gtiff', width=b4.width, height=b4.height, \n",
    "              count=3,crs=b4.crs,transform=b4.transform, dtype=b4.dtypes[0]) as rgb:\n",
    "    rgb.write(b2.read(1),1) \n",
    "    rgb.write(b3.read(1),2) \n",
    "    rgb.write(b4.read(1),3) \n",
    "    rgb.close()"
   ]
  },
  {
   "cell_type": "code",
   "execution_count": 2,
   "id": "b79f5767",
   "metadata": {},
   "outputs": [],
   "source": [
    "from rasterio import mask"
   ]
  },
  {
   "cell_type": "code",
   "execution_count": 8,
   "id": "00d17ad1",
   "metadata": {},
   "outputs": [],
   "source": [
    "import rasterio"
   ]
  },
  {
   "cell_type": "code",
   "execution_count": 13,
   "id": "a09cf861",
   "metadata": {},
   "outputs": [
    {
     "name": "stderr",
     "output_type": "stream",
     "text": [
      "/usr/local/lib/python3.6/dist-packages/pyproj/crs/crs.py:53: FutureWarning: '+init=<authority>:<code>' syntax is deprecated. '<authority>:<code>' is the preferred initialization method. When making the change, be mindful of axis order changes: https://pyproj4.github.io/pyproj/stable/gotchas.html#axis-order-changes-in-proj-6\n",
      "  return _prepare_from_string(\" \".join(pjargs))\n"
     ]
    }
   ],
   "source": [
    "\n",
    "with rio.open(\"RGB.tiff\") as src:\n",
    "    out_meta = src.meta.copy()\n",
    "    nyc_geo_projected = nyc_geo.to_crs(out_meta['crs'].data)\n",
    "    out_image, out_transform = mask.mask(src, nyc_geo_projected.geometry,crop=True) #TODO: note that projected has to be in the geo from out_meta. \n",
    "    out_meta = src.meta.copy()\n",
    "    out_meta.update({\"driver\": \"GTiff\",\n",
    "                 \"height\": out_image.shape[1],\n",
    "                 \"width\": out_image.shape[2],\n",
    "                 \"transform\": out_transform})\n",
    "    \n",
    "\n"
   ]
  },
  {
   "cell_type": "code",
   "execution_count": 14,
   "id": "42a0c158",
   "metadata": {},
   "outputs": [],
   "source": [
    "with rasterio.open(\"RGB_masked.tiff\", \"w\", **out_meta) as dest:\n",
    "    dest.write(out_image)"
   ]
  },
  {
   "cell_type": "code",
   "execution_count": 25,
   "id": "660b8a69",
   "metadata": {},
   "outputs": [],
   "source": [
    "src = rio.open(\"RGB_masked.tiff\")\n"
   ]
  },
  {
   "cell_type": "code",
   "execution_count": 40,
   "id": "66d9cee9",
   "metadata": {},
   "outputs": [],
   "source": [
    "img = src.read()"
   ]
  },
  {
   "cell_type": "code",
   "execution_count": 45,
   "id": "ce447622",
   "metadata": {},
   "outputs": [
    {
     "data": {
      "text/plain": [
       "<matplotlib.image.AxesImage at 0x7f7db82b00>"
      ]
     },
     "execution_count": 45,
     "metadata": {},
     "output_type": "execute_result"
    },
    {
     "data": {
      "image/png": "[encoded data removed]",
      "text/plain": [
       "<Figure size 432x288 with 1 Axes>"
      ]
     },
     "metadata": {
      "needs_background": "light"
     },
     "output_type": "display_data"
    }
   ],
   "source": [
    "plt.imshow(img[0],cmap='gray')"
   ]
  },
  {
   "cell_type": "code",
   "execution_count": null,
   "id": "c1bccaa3",
   "metadata": {},
   "outputs": [],
   "source": [
    "# TODO next downloaded image can be metadata and use that as part of filename when saved down (then all else gets deleted)"
   ]
  },
  {
   "cell_type": "code",
   "execution_count": null,
   "id": "e7ed81b2",
   "metadata": {},
   "outputs": [],
   "source": []
  },
  {
   "cell_type": "code",
   "execution_count": null,
   "id": "42c17dc8",
   "metadata": {},
   "outputs": [],
   "source": [
    "import rasterio"
   ]
  },
  {
   "cell_type": "code",
   "execution_count": null,
   "id": "9c7d03f3",
   "metadata": {},
   "outputs": [],
   "source": [
    "rasterio.features.bounds(nyc_geo_projected.geometry)"
   ]
  },
  {
   "cell_type": "code",
   "execution_count": null,
   "id": "dc2cbc37",
   "metadata": {},
   "outputs": [],
   "source": [
    "%debug"
   ]
  },
  {
   "cell_type": "code",
   "execution_count": null,
   "id": "914a3305",
   "metadata": {},
   "outputs": [],
   "source": [
    "#geometry is the rater"
   ]
  }
 ],
 "metadata": {
  "kernelspec": {
   "display_name": "Python 3",
   "language": "python",
   "name": "python3"
  },
  "language_info": {
   "codemirror_mode": {
    "name": "ipython",
    "version": 3
   },
   "file_extension": ".py",
   "mimetype": "text/x-python",
   "name": "python",
   "nbconvert_exporter": "python",
   "pygments_lexer": "ipython3",
   "version": "3.6.9"
  }
 },
 "nbformat": 4,
 "nbformat_minor": 5
}
